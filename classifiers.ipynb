{
 "cells": [
  {
   "cell_type": "code",
   "execution_count": null,
   "metadata": {},
   "outputs": [],
   "source": []
  },
  {
   "cell_type": "code",
   "execution_count": 1,
   "metadata": {},
   "outputs": [
    {
     "name": "stderr",
     "output_type": "stream",
     "text": [
      "/Library/Python/3.7/site-packages/sklearn/utils/deprecation.py:144: FutureWarning: The sklearn.metrics.classification module is  deprecated in version 0.22 and will be removed in version 0.24. The corresponding classes / functions should instead be imported from sklearn.metrics. Anything that cannot be imported from sklearn.metrics is now part of the private API.\n",
      "  warnings.warn(message, FutureWarning)\n"
     ]
    }
   ],
   "source": [
    "from autogluon import TabularPrediction as task\n",
    "import autogluon as ag\n",
    "import pandas as pd\n",
    "import numpy as np\n",
    "from pandas.plotting import scatter_matrix\n",
    "import matplotlib.pyplot as plt\n",
    "import re\n",
    "from sklearn.metrics import confusion_matrix\n",
    "import itertools as it\n",
    "from sklearn.metrics import accuracy_score, precision_score, recall_score\n",
    "from sklearn.metrics import f1_score\n",
    "from sklearn.preprocessing import label_binarize\n",
    "from sklearn.model_selection import train_test_split\n",
    "\n"
   ]
  },
  {
   "cell_type": "code",
   "execution_count": 16,
   "metadata": {},
   "outputs": [],
   "source": [
    "def plot_confusion_matrix(cm, classes, normalize=False, title='Confusion matrix', cmap=plt.cm.Blues):\n",
    "    \n",
    "    if normalize:\n",
    "        cm = cm.astype('float') / cm.sum(axis=1)[:, np.newaxis]\n",
    "        print('Normalized confusion matrix')\n",
    "    else:\n",
    "        print('Confusion matrix, without normalization')\n",
    "\n",
    "    print(cm)\n",
    "\n",
    "    plt.imshow(cm, interpolation='nearest', cmap=cmap)\n",
    "    plt.title(title)\n",
    "    plt.colorbar()\n",
    "    tick_marks = np.arange(len(classes))\n",
    "    plt.xticks(tick_marks, classes, rotation=45)\n",
    "    plt.yticks(tick_marks, classes)\n",
    "\n",
    "    fmt = '.2f' if normalize else 'd'\n",
    "    thresh = cm.max() / 2.\n",
    "    for i, j in it.product(range(cm.shape[0]), range(cm.shape[1])):\n",
    "        plt.text(j, i, format(cm[i, j], fmt),\n",
    "                 horizontalalignment=\"center\",\n",
    "                 color='white' if cm[i, j] > thresh else 'black')\n",
    "\n",
    "    plt.tight_layout()\n",
    "    plt.ylabel('real class')\n",
    "    plt.xlabel('predicted class')\n",
    "\n",
    "np.set_printoptions(precision=2)"
   ]
  },
  {
   "cell_type": "markdown",
   "metadata": {},
   "source": [
    "# autogluon"
   ]
  },
  {
   "cell_type": "code",
   "execution_count": 3,
   "metadata": {},
   "outputs": [],
   "source": [
    "df = pd.read_csv('table.csv')"
   ]
  },
  {
   "cell_type": "code",
   "execution_count": 4,
   "metadata": {},
   "outputs": [],
   "source": [
    "df = df.drop(['Unnamed: 0'], axis=1)"
   ]
  },
  {
   "cell_type": "code",
   "execution_count": 5,
   "metadata": {},
   "outputs": [],
   "source": [
    "\n",
    "train, test = train_test_split(df, test_size=0.3)"
   ]
  },
  {
   "cell_type": "code",
   "execution_count": 6,
   "metadata": {},
   "outputs": [],
   "source": [
    "label_column = 'Action'"
   ]
  },
  {
   "cell_type": "code",
   "execution_count": 7,
   "metadata": {},
   "outputs": [
    {
     "name": "stderr",
     "output_type": "stream",
     "text": [
      "Warning: Specified num_trials == 1 or time_limits is too small for hyperparameter_tune, setting to False.\n",
      "Beginning AutoGluon training ... Time limit = 60s\n",
      "AutoGluon will save models to agModels-predictOccupation2/\n",
      "Preprocessing data ...\n",
      "Here are the first 10 unique label values in your data:  ['reask' 'operator' 'correct']\n",
      "AutoGluon infers your prediction problem is: multiclass  (because dtype of label-column == object)\n",
      "If this is wrong, please specify `problem_type` argument in fit() instead (You may specify problem_type as one of: ['binary', 'multiclass', 'regression'])\n",
      "\n",
      "\tData preprocessing and feature engineering runtime = 0.03s ...\n",
      "AutoGluon will gauge predictive performance using evaluation metric: accuracy\n",
      "To change this, specify the eval_metric argument of fit()\n",
      "/Library/Developer/CommandLineTools/Library/Frameworks/Python3.framework/Versions/3.7/lib/python3.7/imp.py:342: DeprecationWarning: Using or importing the ABCs from 'collections' instead of from 'collections.abc' is deprecated, and in 3.8 it will stop working\n",
      "  return _load(spec)\n",
      "Fitting model: RandomForestClassifierGini ... Training model for up to 59.97s of the 59.97s of remaining time.\n",
      "\t0.69s\t = Training runtime\n",
      "\t0.5769\t = Validation accuracy score\n",
      "Fitting model: RandomForestClassifierEntr ... Training model for up to 59.15s of the 59.15s of remaining time.\n",
      "\t0.64s\t = Training runtime\n",
      "\t0.5769\t = Validation accuracy score\n",
      "Fitting model: ExtraTreesClassifierGini ... Training model for up to 58.38s of the 58.38s of remaining time.\n",
      "\t0.53s\t = Training runtime\n",
      "\t0.5962\t = Validation accuracy score\n",
      "Fitting model: ExtraTreesClassifierEntr ... Training model for up to 57.71s of the 57.71s of remaining time.\n",
      "\t0.58s\t = Training runtime\n",
      "\t0.5769\t = Validation accuracy score\n",
      "Fitting model: KNeighborsClassifierUnif ... Training model for up to 56.97s of the 56.97s of remaining time.\n",
      "\t0.01s\t = Training runtime\n",
      "\t0.5769\t = Validation accuracy score\n",
      "Fitting model: KNeighborsClassifierDist ... Training model for up to 56.84s of the 56.84s of remaining time.\n",
      "\t0.01s\t = Training runtime\n",
      "\t0.5962\t = Validation accuracy score\n",
      "Fitting model: LightGBMClassifier ... Training model for up to 56.72s of the 56.72s of remaining time.\n",
      "\t0.45s\t = Training runtime\n",
      "\t0.6538\t = Validation accuracy score\n",
      "Fitting model: CatboostClassifier ... Training model for up to 56.27s of the 56.27s of remaining time.\n",
      "\t0.49s\t = Training runtime\n",
      "\t0.6731\t = Validation accuracy score\n",
      "Fitting model: NeuralNetClassifier ... Training model for up to 55.77s of the 55.77s of remaining time.\n",
      "\t1.74s\t = Training runtime\n",
      "\t0.6538\t = Validation accuracy score\n",
      "Fitting model: LightGBMClassifierCustom ... Training model for up to 53.85s of the 53.85s of remaining time.\n",
      "\t0.99s\t = Training runtime\n",
      "\t0.5769\t = Validation accuracy score\n",
      "Fitting model: weighted_ensemble_k0_l1 ...\n",
      "\t0.46s\t = Training runtime\n",
      "\t0.7115\t = Validation accuracy score\n",
      "AutoGluon training complete, total runtime = 8.64s ...\n"
     ]
    }
   ],
   "source": [
    "hp_tune = True  # whether or not to do hyperparameter optimization\n",
    "\n",
    "\n",
    "gbm_options = { # specifies non-default hyperparameter values for lightGBM gradient boosted trees\n",
    "    'num_boost_round': 100, # number of boosting rounds (controls training time of GBM models)\n",
    "    'num_leaves': ag.space.Int(lower=2, upper=4, default=36), # number of leaves in trees (integer hyperparameter),\n",
    "}\n",
    "\n",
    "hyperparameters = {'GBM': gbm_options}  # hyperparameters of each model type\n",
    "# If one of these keys is missing from hyperparameters dict, then no models of that type are trained.\n",
    "\n",
    "\n",
    "time_limits = 60  # train various models for ~2 min\n",
    "num_trials = 15  # try at most 3 different hyperparameter configurations for each type of model\n",
    "search_strategy = 'skopt'  # to tune hyperparameters using SKopt Bayesian optimization routine\n",
    "output_directory = 'agModels-predictOccupation2'  # folder where to store trained models\n",
    "\n",
    "predictor = task.fit(train_data=train, label=label_column,\n",
    "                     output_directory=output_directory, time_limits=time_limits, num_trials=num_trials,\n",
    "                     hyperparameter_tune=hp_tune)"
   ]
  },
  {
   "cell_type": "code",
   "execution_count": 8,
   "metadata": {},
   "outputs": [
    {
     "name": "stderr",
     "output_type": "stream",
     "text": [
      "Evaluation: accuracy on test data: 0.612613\n",
      "Evaluations on test data:\n",
      "{\n",
      "    \"accuracy\": 0.6126126126126126,\n",
      "    \"accuracy_score\": 0.6126126126126126,\n",
      "    \"balanced_accuracy_score\": 0.6772332964193429,\n",
      "    \"matthews_corrcoef\": 0.3407131777786626\n",
      "}\n",
      "Detailed (per-class) classification report:\n",
      "{\n",
      "    \"correct\": {\n",
      "        \"precision\": 0.7333333333333333,\n",
      "        \"recall\": 0.9166666666666666,\n",
      "        \"f1-score\": 0.8148148148148148,\n",
      "        \"support\": 12\n",
      "    },\n",
      "    \"operator\": {\n",
      "        \"precision\": 0.6290322580645161,\n",
      "        \"recall\": 0.6964285714285714,\n",
      "        \"f1-score\": 0.6610169491525423,\n",
      "        \"support\": 56\n",
      "    },\n",
      "    \"reask\": {\n",
      "        \"precision\": 0.5294117647058824,\n",
      "        \"recall\": 0.4186046511627907,\n",
      "        \"f1-score\": 0.4675324675324676,\n",
      "        \"support\": 43\n",
      "    },\n",
      "    \"accuracy\": 0.6126126126126126,\n",
      "    \"macro avg\": {\n",
      "        \"precision\": 0.6305924520345773,\n",
      "        \"recall\": 0.6772332964193429,\n",
      "        \"f1-score\": 0.6477880771666081,\n",
      "        \"support\": 111\n",
      "    },\n",
      "    \"weighted avg\": {\n",
      "        \"precision\": 0.6017163273330256,\n",
      "        \"recall\": 0.6126126126126126,\n",
      "        \"f1-score\": 0.6026902976055518,\n",
      "        \"support\": 111\n",
      "    }\n",
      "}\n"
     ]
    },
    {
     "name": "stdout",
     "output_type": "stream",
     "text": [
      "Predictions:   ['reask' 'reask' 'reask' 'operator' 'reask' 'reask' 'operator' 'correct'\n",
      " 'operator' 'operator' 'reask' 'correct' 'operator' 'reask' 'operator'\n",
      " 'reask' 'operator' 'operator' 'correct' 'reask' 'operator' 'reask'\n",
      " 'operator' 'operator' 'reask' 'operator' 'correct' 'operator' 'reask'\n",
      " 'operator' 'operator' 'operator' 'correct' 'operator' 'reask' 'reask'\n",
      " 'operator' 'correct' 'operator' 'operator' 'operator' 'reask' 'operator'\n",
      " 'operator' 'correct' 'operator' 'reask' 'operator' 'operator' 'operator'\n",
      " 'reask' 'operator' 'reask' 'operator' 'operator' 'operator' 'reask'\n",
      " 'reask' 'operator' 'operator' 'operator' 'reask' 'operator' 'reask'\n",
      " 'operator' 'reask' 'correct' 'operator' 'operator' 'reask' 'correct'\n",
      " 'reask' 'operator' 'operator' 'operator' 'operator' 'correct' 'operator'\n",
      " 'operator' 'operator' 'reask' 'reask' 'reask' 'operator' 'correct'\n",
      " 'operator' 'operator' 'operator' 'correct' 'correct' 'operator'\n",
      " 'operator' 'reask' 'correct' 'operator' 'operator' 'reask' 'operator'\n",
      " 'operator' 'correct' 'operator' 'reask' 'operator' 'reask' 'operator'\n",
      " 'operator' 'operator' 'operator' 'reask' 'reask' 'operator']\n"
     ]
    }
   ],
   "source": [
    "y_test = test[label_column]  # values to predict\n",
    "test_data_nolab = test.drop(labels=[label_column],axis=1) # delete label column to prove we're not cheating\n",
    "y_pred = predictor.predict(test_data_nolab)\n",
    "print(\"Predictions:  \", y_pred)\n",
    "perf = predictor.evaluate_predictions(y_true=y_test, y_pred=y_pred, auxiliary_metrics=True)"
   ]
  },
  {
   "cell_type": "code",
   "execution_count": 12,
   "metadata": {},
   "outputs": [
    {
     "name": "stderr",
     "output_type": "stream",
     "text": [
      "Evaluation: accuracy on test data: 0.612613\n",
      "Evaluations on test data:\n",
      "{\n",
      "    \"accuracy\": 0.6126126126126126,\n",
      "    \"accuracy_score\": 0.6126126126126126,\n",
      "    \"balanced_accuracy_score\": 0.6772332964193429,\n",
      "    \"matthews_corrcoef\": 0.3407131777786626\n",
      "}\n",
      "Detailed (per-class) classification report:\n",
      "{\n",
      "    \"correct\": {\n",
      "        \"precision\": 0.7333333333333333,\n",
      "        \"recall\": 0.9166666666666666,\n",
      "        \"f1-score\": 0.8148148148148148,\n",
      "        \"support\": 12\n",
      "    },\n",
      "    \"operator\": {\n",
      "        \"precision\": 0.6290322580645161,\n",
      "        \"recall\": 0.6964285714285714,\n",
      "        \"f1-score\": 0.6610169491525423,\n",
      "        \"support\": 56\n",
      "    },\n",
      "    \"reask\": {\n",
      "        \"precision\": 0.5294117647058824,\n",
      "        \"recall\": 0.4186046511627907,\n",
      "        \"f1-score\": 0.4675324675324676,\n",
      "        \"support\": 43\n",
      "    },\n",
      "    \"accuracy\": 0.6126126126126126,\n",
      "    \"macro avg\": {\n",
      "        \"precision\": 0.6305924520345773,\n",
      "        \"recall\": 0.6772332964193429,\n",
      "        \"f1-score\": 0.6477880771666081,\n",
      "        \"support\": 111\n",
      "    },\n",
      "    \"weighted avg\": {\n",
      "        \"precision\": 0.6017163273330256,\n",
      "        \"recall\": 0.6126126126126126,\n",
      "        \"f1-score\": 0.6026902976055518,\n",
      "        \"support\": 111\n",
      "    }\n",
      "}\n"
     ]
    },
    {
     "name": "stdout",
     "output_type": "stream",
     "text": [
      "Predictions:   ['reask' 'reask' 'reask' 'operator' 'reask' 'reask' 'operator' 'correct'\n",
      " 'operator' 'operator' 'reask' 'correct' 'operator' 'reask' 'operator'\n",
      " 'reask' 'operator' 'operator' 'correct' 'reask' 'operator' 'reask'\n",
      " 'operator' 'operator' 'reask' 'operator' 'correct' 'operator' 'reask'\n",
      " 'operator' 'operator' 'operator' 'correct' 'operator' 'reask' 'reask'\n",
      " 'operator' 'correct' 'operator' 'operator' 'operator' 'reask' 'operator'\n",
      " 'operator' 'correct' 'operator' 'reask' 'operator' 'operator' 'operator'\n",
      " 'reask' 'operator' 'reask' 'operator' 'operator' 'operator' 'reask'\n",
      " 'reask' 'operator' 'operator' 'operator' 'reask' 'operator' 'reask'\n",
      " 'operator' 'reask' 'correct' 'operator' 'operator' 'reask' 'correct'\n",
      " 'reask' 'operator' 'operator' 'operator' 'operator' 'correct' 'operator'\n",
      " 'operator' 'operator' 'reask' 'reask' 'reask' 'operator' 'correct'\n",
      " 'operator' 'operator' 'operator' 'correct' 'correct' 'operator'\n",
      " 'operator' 'reask' 'correct' 'operator' 'operator' 'reask' 'operator'\n",
      " 'operator' 'correct' 'operator' 'reask' 'operator' 'reask' 'operator'\n",
      " 'operator' 'operator' 'operator' 'reask' 'reask' 'operator']\n"
     ]
    }
   ],
   "source": [
    "y_test = test[label_column]  # values to predict\n",
    "test_data_nolab = test.drop(labels=[label_column],axis=1) # delete label column to prove we're not cheating\n",
    "y_pred = predictor.predict(test_data_nolab)\n",
    "print(\"Predictions:  \", y_pred)\n",
    "perf = predictor.evaluate_predictions(y_true=y_test, y_pred=y_pred, auxiliary_metrics=True)"
   ]
  },
  {
   "cell_type": "code",
   "execution_count": 13,
   "metadata": {},
   "outputs": [
    {
     "name": "stdout",
     "output_type": "stream",
     "text": [
      "Confusion matrix, without normalization\n",
      "[[11  0  1]\n",
      " [ 2 39 15]\n",
      " [ 2 23 18]]\n",
      "Normalized confusion matrix\n",
      "[[0.92 0.   0.08]\n",
      " [0.04 0.7  0.27]\n",
      " [0.05 0.53 0.42]]\n"
     ]
    },
    {
     "data": {
      "image/png": "[encoded data removed]",
      "text/plain": [
       "<Figure size 432x288 with 2 Axes>"
      ]
     },
     "metadata": {
      "needs_background": "light"
     },
     "output_type": "display_data"
    },
    {
     "data": {
      "image/png": "[encoded data removed]",
      "text/plain": [
       "<Figure size 432x288 with 2 Axes>"
      ]
     },
     "metadata": {
      "needs_background": "light"
     },
     "output_type": "display_data"
    },
    {
     "data": {
      "text/plain": [
       "<Figure size 720x576 with 0 Axes>"
      ]
     },
     "metadata": {},
     "output_type": "display_data"
    }
   ],
   "source": [
    "class_names = ['correct','operator','reask']\n",
    "cnf_matrix = confusion_matrix(y_pred, y_test)\n",
    "\n",
    "plt.figure()\n",
    "plot_confusion_matrix(cnf_matrix.transpose(), classes=class_names,\n",
    "                      title='confusion matrix')\n",
    "\n",
    "# Plot normalized confusion matrix\n",
    "plt.figure()\n",
    "plot_confusion_matrix(cnf_matrix.transpose(), classes=class_names, normalize=True,\n",
    "                      title='normalized confusion matrix')\n",
    "\n",
    "plt.figure(figsize=(10,8))\n",
    "plt.show()\n"
   ]
  },
  {
   "cell_type": "code",
   "execution_count": null,
   "metadata": {},
   "outputs": [],
   "source": []
  },
  {
   "cell_type": "code",
   "execution_count": 14,
   "metadata": {},
   "outputs": [],
   "source": [
    "from sklearn.externals import joblib\n"
   ]
  },
  {
   "cell_type": "code",
   "execution_count": 16,
   "metadata": {},
   "outputs": [
    {
     "data": {
      "text/plain": [
       "['atgln.clf']"
      ]
     },
     "execution_count": 16,
     "metadata": {},
     "output_type": "execute_result"
    }
   ],
   "source": [
    "joblib.dump(predictor, 'atgln.clf')\n"
   ]
  },
  {
   "cell_type": "code",
   "execution_count": 17,
   "metadata": {},
   "outputs": [],
   "source": [
    "kek = joblib.load('atgln.clf')"
   ]
  },
  {
   "cell_type": "code",
   "execution_count": 18,
   "metadata": {},
   "outputs": [
    {
     "name": "stdout",
     "output_type": "stream",
     "text": [
      "     Score\n",
      "346  78.98\n",
      "365  30.21\n",
      "266  22.29\n",
      "129  30.70\n",
      "278  39.35\n"
     ]
    },
    {
     "name": "stderr",
     "output_type": "stream",
     "text": [
      "Evaluation: accuracy on test data: 0.612613\n",
      "Evaluations on test data:\n",
      "{\n",
      "    \"accuracy\": 0.6126126126126126,\n",
      "    \"accuracy_score\": 0.6126126126126126,\n",
      "    \"balanced_accuracy_score\": 0.6772332964193429,\n",
      "    \"matthews_corrcoef\": 0.3407131777786626\n",
      "}\n",
      "Detailed (per-class) classification report:\n",
      "{\n",
      "    \"correct\": {\n",
      "        \"precision\": 0.7333333333333333,\n",
      "        \"recall\": 0.9166666666666666,\n",
      "        \"f1-score\": 0.8148148148148148,\n",
      "        \"support\": 12\n",
      "    },\n",
      "    \"operator\": {\n",
      "        \"precision\": 0.6290322580645161,\n",
      "        \"recall\": 0.6964285714285714,\n",
      "        \"f1-score\": 0.6610169491525423,\n",
      "        \"support\": 56\n",
      "    },\n",
      "    \"reask\": {\n",
      "        \"precision\": 0.5294117647058824,\n",
      "        \"recall\": 0.4186046511627907,\n",
      "        \"f1-score\": 0.4675324675324676,\n",
      "        \"support\": 43\n",
      "    },\n",
      "    \"accuracy\": 0.6126126126126126,\n",
      "    \"macro avg\": {\n",
      "        \"precision\": 0.6305924520345773,\n",
      "        \"recall\": 0.6772332964193429,\n",
      "        \"f1-score\": 0.6477880771666081,\n",
      "        \"support\": 111\n",
      "    },\n",
      "    \"weighted avg\": {\n",
      "        \"precision\": 0.6017163273330256,\n",
      "        \"recall\": 0.6126126126126126,\n",
      "        \"f1-score\": 0.6026902976055518,\n",
      "        \"support\": 111\n",
      "    }\n",
      "}\n"
     ]
    },
    {
     "name": "stdout",
     "output_type": "stream",
     "text": [
      "Predictions:   ['reask' 'reask' 'reask' 'operator' 'reask' 'reask' 'operator' 'correct'\n",
      " 'operator' 'operator' 'reask' 'correct' 'operator' 'reask' 'operator'\n",
      " 'reask' 'operator' 'operator' 'correct' 'reask' 'operator' 'reask'\n",
      " 'operator' 'operator' 'reask' 'operator' 'correct' 'operator' 'reask'\n",
      " 'operator' 'operator' 'operator' 'correct' 'operator' 'reask' 'reask'\n",
      " 'operator' 'correct' 'operator' 'operator' 'operator' 'reask' 'operator'\n",
      " 'operator' 'correct' 'operator' 'reask' 'operator' 'operator' 'operator'\n",
      " 'reask' 'operator' 'reask' 'operator' 'operator' 'operator' 'reask'\n",
      " 'reask' 'operator' 'operator' 'operator' 'reask' 'operator' 'reask'\n",
      " 'operator' 'reask' 'correct' 'operator' 'operator' 'reask' 'correct'\n",
      " 'reask' 'operator' 'operator' 'operator' 'operator' 'correct' 'operator'\n",
      " 'operator' 'operator' 'reask' 'reask' 'reask' 'operator' 'correct'\n",
      " 'operator' 'operator' 'operator' 'correct' 'correct' 'operator'\n",
      " 'operator' 'reask' 'correct' 'operator' 'operator' 'reask' 'operator'\n",
      " 'operator' 'correct' 'operator' 'reask' 'operator' 'reask' 'operator'\n",
      " 'operator' 'operator' 'operator' 'reask' 'reask' 'operator']\n"
     ]
    }
   ],
   "source": [
    "y_test = test[label_column]  # values to predict\n",
    "test_data_nolab = test.drop(labels=[label_column],axis=1) # delete label column to prove we're not cheating\n",
    "print(test_data_nolab.head())\n",
    "y_pred = kek.predict(test_data_nolab)\n",
    "print(\"Predictions:  \", y_pred)\n",
    "perf = kek.evaluate_predictions(y_true=y_test, y_pred=y_pred, auxiliary_metrics=True)"
   ]
  },
  {
   "cell_type": "markdown",
   "metadata": {},
   "source": [
    "### + RandomForest"
   ]
  },
  {
   "cell_type": "code",
   "execution_count": 62,
   "metadata": {},
   "outputs": [],
   "source": [
    "from sklearn.model_selection import train_test_split\n",
    "from sklearn.preprocessing import label_binarize\n"
   ]
  },
  {
   "cell_type": "code",
   "execution_count": 21,
   "metadata": {},
   "outputs": [],
   "source": [
    "from sklearn.ensemble import RandomForestClassifier\n",
    "\n",
    "classifier = RandomForestClassifier(n_estimators=1000, max_depth=4, criterion='gini', min_samples_leaf=3)\n"
   ]
  },
  {
   "cell_type": "code",
   "execution_count": 23,
   "metadata": {},
   "outputs": [
    {
     "data": {
      "text/plain": [
       "((256, 1), (256,), (111, 1), (111,))"
      ]
     },
     "execution_count": 23,
     "metadata": {},
     "output_type": "execute_result"
    }
   ],
   "source": [
    "df = pd.read_csv(\"table.csv\")\n",
    "X = df['Score']\n",
    "y = df['Action']\n",
    "\n",
    "mapping = {'correct': 0, 'operator': 1, 'reask':2}\n",
    "y = y.map(mapping)\n",
    "X=np.array(X.astype('float')).reshape(-1,1)\n",
    "y=y.astype('float')\n",
    "\n",
    "X_train, X_test, y_train, y_test = train_test_split(X, y, random_state=42, test_size=0.3, stratify=y)\n",
    "\n",
    "X_train.shape, y_train.shape, X_test.shape, y_test.shape,\n",
    "\n"
   ]
  },
  {
   "cell_type": "code",
   "execution_count": 24,
   "metadata": {},
   "outputs": [
    {
     "data": {
      "text/plain": [
       "RandomForestClassifier(bootstrap=True, ccp_alpha=0.0, class_weight=None,\n",
       "                       criterion='gini', max_depth=5, max_features='auto',\n",
       "                       max_leaf_nodes=None, max_samples=None,\n",
       "                       min_impurity_decrease=0.0, min_impurity_split=None,\n",
       "                       min_samples_leaf=6, min_samples_split=2,\n",
       "                       min_weight_fraction_leaf=0.0, n_estimators=300,\n",
       "                       n_jobs=None, oob_score=False, random_state=None,\n",
       "                       verbose=0, warm_start=False)"
      ]
     },
     "execution_count": 24,
     "metadata": {},
     "output_type": "execute_result"
    }
   ],
   "source": [
    "X_train, X_test, y_train, y_test = train_test_split(X, y, test_size=0.3, random_state=0)\n",
    "classifier = RandomForestClassifier(n_estimators=300, max_depth=5, criterion='gini', min_samples_leaf=6)\n",
    "classifier.fit(X_train,y_train)"
   ]
  },
  {
   "cell_type": "code",
   "execution_count": 25,
   "metadata": {},
   "outputs": [],
   "source": [
    "pred = classifier.predict(X_test)\n"
   ]
  },
  {
   "cell_type": "code",
   "execution_count": null,
   "metadata": {},
   "outputs": [],
   "source": []
  },
  {
   "cell_type": "code",
   "execution_count": 27,
   "metadata": {},
   "outputs": [
    {
     "name": "stdout",
     "output_type": "stream",
     "text": [
      "Confusion matrix, without normalization\n",
      "[[11  1  0]\n",
      " [ 5 37 18]\n",
      " [ 3 19 17]]\n",
      "Normalized confusion matrix\n",
      "[[0.92 0.08 0.  ]\n",
      " [0.08 0.62 0.3 ]\n",
      " [0.08 0.49 0.44]]\n"
     ]
    },
    {
     "data": {
      "image/png": "[encoded data removed]",
      "text/plain": [
       "<Figure size 432x288 with 2 Axes>"
      ]
     },
     "metadata": {
      "needs_background": "light"
     },
     "output_type": "display_data"
    },
    {
     "data": {
      "image/png": "[encoded data removed]",
      "text/plain": [
       "<Figure size 432x288 with 2 Axes>"
      ]
     },
     "metadata": {
      "needs_background": "light"
     },
     "output_type": "display_data"
    },
    {
     "data": {
      "text/plain": [
       "<Figure size 720x576 with 0 Axes>"
      ]
     },
     "metadata": {},
     "output_type": "display_data"
    }
   ],
   "source": [
    "class_names = ['correct','operator','reask']\n",
    "cnf_matrix = confusion_matrix(pred, y_test)\n",
    "\n",
    "plt.figure()\n",
    "plot_confusion_matrix(cnf_matrix.transpose(), classes=class_names,\n",
    "                      title='confusion matrix')\n",
    "\n",
    "# Plot normalized confusion matrix\n",
    "plt.figure()\n",
    "plot_confusion_matrix(cnf_matrix.transpose(), classes=class_names, normalize=True,\n",
    "                      title='normalized confusion matrix')\n",
    "\n",
    "plt.figure(figsize=(10,8))\n",
    "plt.show()"
   ]
  },
  {
   "cell_type": "code",
   "execution_count": 37,
   "metadata": {},
   "outputs": [],
   "source": [
    "parameters = { \n",
    "    'n_estimators': range(200, 1000, 50),\n",
    "    'max_depth': range (2, 10, 1),\n",
    "    'criterion' :['gini', 'entropy']\n",
    "}\n",
    "clf = RandomForestClassifier()\n",
    "\n"
   ]
  },
  {
   "cell_type": "code",
   "execution_count": 38,
   "metadata": {},
   "outputs": [
    {
     "name": "stdout",
     "output_type": "stream",
     "text": [
      "Fitting 10 folds for each of 256 candidates, totalling 2560 fits\n"
     ]
    },
    {
     "name": "stderr",
     "output_type": "stream",
     "text": [
      "[Parallel(n_jobs=10)]: Using backend LokyBackend with 10 concurrent workers.\n",
      "[Parallel(n_jobs=10)]: Done  30 tasks      | elapsed:    5.4s\n",
      "[Parallel(n_jobs=10)]: Done 180 tasks      | elapsed:   43.6s\n",
      "[Parallel(n_jobs=10)]: Done 430 tasks      | elapsed:  1.8min\n",
      "[Parallel(n_jobs=10)]: Done 780 tasks      | elapsed:  3.4min\n",
      "[Parallel(n_jobs=10)]: Done 1230 tasks      | elapsed:  5.6min\n",
      "[Parallel(n_jobs=10)]: Done 1780 tasks      | elapsed:  8.4min\n",
      "[Parallel(n_jobs=10)]: Done 2430 tasks      | elapsed: 11.3min\n",
      "[Parallel(n_jobs=10)]: Done 2560 out of 2560 | elapsed: 12.0min finished\n"
     ]
    },
    {
     "data": {
      "text/plain": [
       "GridSearchCV(cv=10, error_score=nan,\n",
       "             estimator=RandomForestClassifier(bootstrap=True, ccp_alpha=0.0,\n",
       "                                              class_weight=None,\n",
       "                                              criterion='gini', max_depth=None,\n",
       "                                              max_features='auto',\n",
       "                                              max_leaf_nodes=None,\n",
       "                                              max_samples=None,\n",
       "                                              min_impurity_decrease=0.0,\n",
       "                                              min_impurity_split=None,\n",
       "                                              min_samples_leaf=1,\n",
       "                                              min_samples_split=2,\n",
       "                                              min_weight_fraction_leaf=0.0,\n",
       "                                              n_estimators=100, n_jobs=None,\n",
       "                                              oob_score=False,\n",
       "                                              random_state=None, verbose=0,\n",
       "                                              warm_start=False),\n",
       "             iid='deprecated', n_jobs=10,\n",
       "             param_grid={'criterion': ['gini', 'entropy'],\n",
       "                         'max_depth': range(2, 10),\n",
       "                         'n_estimators': range(200, 1000, 50)},\n",
       "             pre_dispatch='2*n_jobs', refit=True, return_train_score=False,\n",
       "             scoring='f1_micro', verbose=True)"
      ]
     },
     "execution_count": 38,
     "metadata": {},
     "output_type": "execute_result"
    }
   ],
   "source": [
    "\n",
    "rfc_gs = GridSearchCV(\n",
    "            estimator=clf,\n",
    "            param_grid=parameters,\n",
    "            scoring = 'f1_micro',\n",
    "            n_jobs = 10,\n",
    "            cv = 10,\n",
    "            verbose=True)\n",
    "rfc_gs.fit(X_train, y_train)"
   ]
  },
  {
   "cell_type": "code",
   "execution_count": 39,
   "metadata": {},
   "outputs": [
    {
     "name": "stdout",
     "output_type": "stream",
     "text": [
      "Confusion matrix, without normalization\n",
      "[[11  2  3]\n",
      " [ 1 42 15]\n",
      " [ 0 16 21]]\n",
      "Normalized confusion matrix\n",
      "[[0.69 0.12 0.19]\n",
      " [0.02 0.72 0.26]\n",
      " [0.   0.43 0.57]]\n"
     ]
    },
    {
     "data": {
      "image/png": "[encoded data removed]",
      "text/plain": [
       "<Figure size 432x288 with 2 Axes>"
      ]
     },
     "metadata": {
      "needs_background": "light"
     },
     "output_type": "display_data"
    },
    {
     "data": {
      "image/png": "[encoded data removed]",
      "text/plain": [
       "<Figure size 432x288 with 2 Axes>"
      ]
     },
     "metadata": {
      "needs_background": "light"
     },
     "output_type": "display_data"
    },
    {
     "data": {
      "text/plain": [
       "<Figure size 720x576 with 0 Axes>"
      ]
     },
     "metadata": {},
     "output_type": "display_data"
    }
   ],
   "source": [
    "pred = rfc_gs.predict(X_test)\n",
    "\n",
    "class_names = ['correct','operator','reask']\n",
    "\n",
    "cm = confusion_matrix(y_test, pred)\n",
    "plt.figure()\n",
    "plot_confusion_matrix(cm.transpose(), classes=class_names,\n",
    "                      title='confusion matrix')\n",
    "\n",
    "# Plot normalized confusion matrix\n",
    "plt.figure()\n",
    "plot_confusion_matrix(cm.transpose(), classes=class_names, normalize=True,\n",
    "                      title='normalized confusion matrix')\n",
    "\n",
    "plt.figure(figsize=(10,8))\n",
    "plt.show()"
   ]
  },
  {
   "cell_type": "code",
   "execution_count": 40,
   "metadata": {},
   "outputs": [
    {
     "data": {
      "text/plain": [
       "['rfc_gs.clf']"
      ]
     },
     "execution_count": 40,
     "metadata": {},
     "output_type": "execute_result"
    }
   ],
   "source": [
    "joblib.dump(rfc_gs, 'rfc_gs.clf')"
   ]
  },
  {
   "cell_type": "markdown",
   "metadata": {},
   "source": [
    "# xgb"
   ]
  },
  {
   "cell_type": "code",
   "execution_count": 23,
   "metadata": {},
   "outputs": [],
   "source": [
    "import xgboost as xgb"
   ]
  },
  {
   "cell_type": "code",
   "execution_count": 2,
   "metadata": {},
   "outputs": [],
   "source": [
    "df = pd.read_csv(\"table.csv\")\n",
    "X = df['Score']\n",
    "y = df['Action']\n",
    "\n",
    "mapping = {'correct': 0, 'operator': 1, 'reask':2}\n",
    "y = y.map(mapping)\n"
   ]
  },
  {
   "cell_type": "code",
   "execution_count": 3,
   "metadata": {},
   "outputs": [],
   "source": [
    "y = label_binarize(y, classes=[0, 1, 2])\n"
   ]
  },
  {
   "cell_type": "code",
   "execution_count": 4,
   "metadata": {},
   "outputs": [],
   "source": [
    "X=np.array(X.astype('float')).reshape(-1,1)\n",
    "y=y.astype('float')"
   ]
  },
  {
   "cell_type": "code",
   "execution_count": 5,
   "metadata": {},
   "outputs": [
    {
     "data": {
      "text/plain": [
       "((256, 1), (256, 3), (111, 1), (111, 3))"
      ]
     },
     "execution_count": 5,
     "metadata": {},
     "output_type": "execute_result"
    }
   ],
   "source": [
    "from sklearn.model_selection import train_test_split\n",
    "\n",
    "X_train, X_test, y_train, y_test = train_test_split(X, y, random_state=42, test_size=0.3, stratify=y)\n",
    "\n",
    "X_train.shape, y_train.shape, X_test.shape, y_test.shape,\n"
   ]
  },
  {
   "cell_type": "code",
   "execution_count": 174,
   "metadata": {},
   "outputs": [
    {
     "name": "stderr",
     "output_type": "stream",
     "text": [
      "/Library/Python/3.7/site-packages/xgboost/core.py:587: FutureWarning: Series.base is deprecated and will be removed in a future version\n",
      "  if getattr(data, 'base', None) is not None and \\\n"
     ]
    }
   ],
   "source": [
    "dtrain = xgb.DMatrix(data=X_train, label=y_train)\n",
    "dtest = xgb.DMatrix(data=X_test)\n"
   ]
  },
  {
   "cell_type": "code",
   "execution_count": 192,
   "metadata": {},
   "outputs": [],
   "source": [
    "params = {\n",
    "    'objective': 'multi:softmax',  # error evaluation for multiclass training\n",
    "    'num_class': 3,\n",
    "    'n_gpus': 0,\n",
    "    'silent':False, \n",
    "    'scale_pos_weight':1,\n",
    "    'learning_rate':0.01,  \n",
    "    'colsample_bytree' : 0.4,\n",
    "    'subsample' : 0.8,\n",
    "    'n_estimators':1, \n",
    "    'reg_alpha' :.3,\n",
    "    'max_depth':1, \n",
    "    'gamma':10\n",
    "}"
   ]
  },
  {
   "cell_type": "code",
   "execution_count": 196,
   "metadata": {},
   "outputs": [],
   "source": [
    "fc = xgb.train(params, dtrain)\n"
   ]
  },
  {
   "cell_type": "code",
   "execution_count": 197,
   "metadata": {},
   "outputs": [],
   "source": [
    "pred = fc.predict(dtest)\n"
   ]
  },
  {
   "cell_type": "code",
   "execution_count": 198,
   "metadata": {},
   "outputs": [
    {
     "name": "stdout",
     "output_type": "stream",
     "text": [
      "Confusion matrix, without normalization\n",
      "[[11  5  5]\n",
      " [ 0 34 18]\n",
      " [ 0 17 21]]\n",
      "Normalized confusion matrix\n",
      "[[0.52 0.24 0.24]\n",
      " [0.   0.65 0.35]\n",
      " [0.   0.45 0.55]]\n"
     ]
    },
    {
     "data": {
      "image/png": "[encoded data removed]",
      "text/plain": [
       "<Figure size 432x288 with 2 Axes>"
      ]
     },
     "metadata": {
      "needs_background": "light"
     },
     "output_type": "display_data"
    },
    {
     "data": {
      "image/png": "[encoded data removed]",
      "text/plain": [
       "<Figure size 432x288 with 2 Axes>"
      ]
     },
     "metadata": {
      "needs_background": "light"
     },
     "output_type": "display_data"
    },
    {
     "data": {
      "text/plain": [
       "<Figure size 720x576 with 0 Axes>"
      ]
     },
     "metadata": {},
     "output_type": "display_data"
    }
   ],
   "source": [
    "from sklearn.metrics import confusion_matrix\n",
    "\n",
    "cm = confusion_matrix(y_test, pred)\n",
    "plt.figure()\n",
    "plot_confusion_matrix(cm.transpose(), classes=class_names,\n",
    "                      title='confusion matrix')\n",
    "\n",
    "# Plot normalized confusion matrix\n",
    "plt.figure()\n",
    "plot_confusion_matrix(cm.transpose(), classes=class_names, normalize=True,\n",
    "                      title='normalized confusion matrix')\n",
    "\n",
    "plt.figure(figsize=(10,8))\n",
    "plt.show()"
   ]
  },
  {
   "cell_type": "markdown",
   "metadata": {},
   "source": [
    "# xgb + grid search"
   ]
  },
  {
   "cell_type": "code",
   "execution_count": 6,
   "metadata": {},
   "outputs": [],
   "source": [
    "from xgboost import XGBClassifier\n",
    "from sklearn.model_selection import GridSearchCV\n"
   ]
  },
  {
   "cell_type": "code",
   "execution_count": 9,
   "metadata": {},
   "outputs": [
    {
     "data": {
      "text/plain": [
       "((256, 1), (256,), (111, 1), (111,))"
      ]
     },
     "execution_count": 9,
     "metadata": {},
     "output_type": "execute_result"
    }
   ],
   "source": [
    "df = pd.read_csv(\"table.csv\")\n",
    "X = df['Score']\n",
    "y = df['Action']\n",
    "\n",
    "mapping = {'correct': 0, 'operator': 1, 'reask':2}\n",
    "y = y.map(mapping)\n",
    "X=np.array(X.astype('float')).reshape(-1,1)\n",
    "y=y.astype('float')\n",
    "\n",
    "X_train, X_test, y_train, y_test = train_test_split(X, y, random_state=42, test_size=0.3, stratify=y)\n",
    "\n",
    "X_train.shape, y_train.shape, X_test.shape, y_test.shape,\n",
    "\n",
    "\n"
   ]
  },
  {
   "cell_type": "code",
   "execution_count": 12,
   "metadata": {},
   "outputs": [],
   "source": [
    "estimator = XGBClassifier(\n",
    "    objective= 'multi:softmax',\n",
    "    nthread=4,\n",
    "    seed=42\n",
    ")\n",
    "\n",
    "parameters = {\n",
    "    'max_depth': range (2, 10, 1),\n",
    "    'n_estimators': range(70, 400, 40),\n",
    "    'learning_rate': [0.1, 0.01, 0.05]\n",
    "}\n",
    "\n",
    "grid_search = GridSearchCV(\n",
    "    estimator=estimator,\n",
    "    param_grid=parameters,\n",
    "    scoring = 'f1_micro',\n",
    "    n_jobs = 10,\n",
    "    cv = 10,\n",
    "    verbose=True\n",
    ")\n"
   ]
  },
  {
   "cell_type": "code",
   "execution_count": 13,
   "metadata": {},
   "outputs": [
    {
     "name": "stdout",
     "output_type": "stream",
     "text": [
      "Fitting 10 folds for each of 216 candidates, totalling 2160 fits\n"
     ]
    },
    {
     "name": "stderr",
     "output_type": "stream",
     "text": [
      "[Parallel(n_jobs=10)]: Using backend LokyBackend with 10 concurrent workers.\n",
      "[Parallel(n_jobs=10)]: Done  30 tasks      | elapsed:    2.5s\n",
      "[Parallel(n_jobs=10)]: Done 300 tasks      | elapsed:    6.7s\n",
      "[Parallel(n_jobs=10)]: Done 800 tasks      | elapsed:   17.3s\n",
      "[Parallel(n_jobs=10)]: Done 1500 tasks      | elapsed:   32.3s\n",
      "[Parallel(n_jobs=10)]: Done 2160 out of 2160 | elapsed:   45.8s finished\n",
      "/Library/Python/3.7/site-packages/xgboost/sklearn.py:235: DeprecationWarning: The seed parameter is deprecated as of version .6.Please use random_state instead.seed is deprecated.\n",
      "  'seed is deprecated.', DeprecationWarning)\n",
      "/Library/Python/3.7/site-packages/xgboost/sklearn.py:242: DeprecationWarning: The nthread parameter is deprecated as of version .6.Please use n_jobs instead.nthread is deprecated.\n",
      "  'nthread is deprecated.', DeprecationWarning)\n"
     ]
    },
    {
     "data": {
      "text/plain": [
       "GridSearchCV(cv=10, error_score=nan,\n",
       "             estimator=XGBClassifier(base_score=0.5, booster='gbtree',\n",
       "                                     colsample_bylevel=1, colsample_bynode=1,\n",
       "                                     colsample_bytree=1, gamma=0,\n",
       "                                     learning_rate=0.1, max_delta_step=0,\n",
       "                                     max_depth=3, min_child_weight=1,\n",
       "                                     missing=None, n_estimators=100, n_jobs=1,\n",
       "                                     nthread=4, objective='multi:softmax',\n",
       "                                     random_state=0, reg_alpha=0, reg_lambda=1,\n",
       "                                     scale_pos_weight=1, seed=42, silent=None,\n",
       "                                     subsample=1, verbosity=1),\n",
       "             iid='deprecated', n_jobs=10,\n",
       "             param_grid={'learning_rate': [0.1, 0.01, 0.05],\n",
       "                         'max_depth': range(2, 10),\n",
       "                         'n_estimators': range(70, 400, 40)},\n",
       "             pre_dispatch='2*n_jobs', refit=True, return_train_score=False,\n",
       "             scoring='f1_micro', verbose=True)"
      ]
     },
     "execution_count": 13,
     "metadata": {},
     "output_type": "execute_result"
    }
   ],
   "source": [
    "grid_search.fit(X_train, y_train)\n"
   ]
  },
  {
   "cell_type": "code",
   "execution_count": 14,
   "metadata": {},
   "outputs": [],
   "source": [
    "pred = grid_search.predict(X_test)\n"
   ]
  },
  {
   "cell_type": "code",
   "execution_count": 18,
   "metadata": {},
   "outputs": [
    {
     "name": "stdout",
     "output_type": "stream",
     "text": [
      "Confusion matrix, without normalization\n",
      "[[11  4  4]\n",
      " [ 0 39 21]\n",
      " [ 0 13 19]]\n",
      "Normalized confusion matrix\n",
      "[[0.58 0.21 0.21]\n",
      " [0.   0.65 0.35]\n",
      " [0.   0.41 0.59]]\n"
     ]
    },
    {
     "data": {
      "image/png": "[encoded data removed]",
      "text/plain": [
       "<Figure size 432x288 with 2 Axes>"
      ]
     },
     "metadata": {
      "needs_background": "light"
     },
     "output_type": "display_data"
    },
    {
     "data": {
      "image/png": "[encoded data removed]",
      "text/plain": [
       "<Figure size 432x288 with 2 Axes>"
      ]
     },
     "metadata": {
      "needs_background": "light"
     },
     "output_type": "display_data"
    },
    {
     "data": {
      "text/plain": [
       "<Figure size 720x576 with 0 Axes>"
      ]
     },
     "metadata": {},
     "output_type": "display_data"
    }
   ],
   "source": [
    "class_names = ['correct','operator','reask']\n",
    "\n",
    "cm = confusion_matrix(y_test, pred)\n",
    "plt.figure()\n",
    "plot_confusion_matrix(cm.transpose(), classes=class_names,\n",
    "                      title='confusion matrix')\n",
    "\n",
    "# Plot normalized confusion matrix\n",
    "plt.figure()\n",
    "plot_confusion_matrix(cm.transpose(), classes=class_names, normalize=True,\n",
    "                      title='normalized confusion matrix')\n",
    "\n",
    "plt.figure(figsize=(10,8))\n",
    "plt.show()"
   ]
  },
  {
   "cell_type": "code",
   "execution_count": 20,
   "metadata": {},
   "outputs": [
    {
     "data": {
      "text/plain": [
       "['gs_xgb.clf']"
      ]
     },
     "execution_count": 20,
     "metadata": {},
     "output_type": "execute_result"
    }
   ],
   "source": [
    "from sklearn.externals import joblib\n",
    "\n",
    "\n",
    "joblib.dump(grid_search,'gs_xgb.clf')"
   ]
  },
  {
   "cell_type": "code",
   "execution_count": null,
   "metadata": {},
   "outputs": [],
   "source": []
  }
 ],
 "metadata": {
  "kernelspec": {
   "display_name": "Python 3",
   "language": "python",
   "name": "python3"
  },
  "language_info": {
   "codemirror_mode": {
    "name": "ipython",
    "version": 3
   },
   "file_extension": ".py",
   "mimetype": "text/x-python",
   "name": "python",
   "nbconvert_exporter": "python",
   "pygments_lexer": "ipython3",
   "version": "3.7.3"
  }
 },
 "nbformat": 4,
 "nbformat_minor": 4
}
